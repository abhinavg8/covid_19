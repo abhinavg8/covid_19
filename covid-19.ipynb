{
 "cells": [
  {
   "cell_type": "code",
   "execution_count": 1,
   "metadata": {},
   "outputs": [],
   "source": [
    "import pandas as pd\n",
    "import matplotlib.pyplot as plt\n",
    "import seaborn as sns\n",
    "import numpy as np\n",
    "import datetime\n",
    "\n",
    "import warnings\n",
    "warnings.filterwarnings('ignore')\n",
    "warnings.filterwarnings('ignore', category=DeprecationWarning)"
   ]
  },
  {
   "cell_type": "code",
   "execution_count": 2,
   "metadata": {},
   "outputs": [
    {
     "data": {
      "text/html": [
       "<div>\n",
       "<style scoped>\n",
       "    .dataframe tbody tr th:only-of-type {\n",
       "        vertical-align: middle;\n",
       "    }\n",
       "\n",
       "    .dataframe tbody tr th {\n",
       "        vertical-align: top;\n",
       "    }\n",
       "\n",
       "    .dataframe thead th {\n",
       "        text-align: right;\n",
       "    }\n",
       "</style>\n",
       "<table border=\"1\" class=\"dataframe\">\n",
       "  <thead>\n",
       "    <tr style=\"text-align: right;\">\n",
       "      <th></th>\n",
       "      <th>SNo</th>\n",
       "      <th>ObservationDate</th>\n",
       "      <th>Province/State</th>\n",
       "      <th>Country/Region</th>\n",
       "      <th>Last Update</th>\n",
       "      <th>Confirmed</th>\n",
       "      <th>Deaths</th>\n",
       "      <th>Recovered</th>\n",
       "    </tr>\n",
       "  </thead>\n",
       "  <tbody>\n",
       "    <tr>\n",
       "      <th>0</th>\n",
       "      <td>1</td>\n",
       "      <td>01/22/2020</td>\n",
       "      <td>Anhui</td>\n",
       "      <td>Mainland China</td>\n",
       "      <td>1/22/2020 17:00</td>\n",
       "      <td>1.0</td>\n",
       "      <td>0.0</td>\n",
       "      <td>0.0</td>\n",
       "    </tr>\n",
       "    <tr>\n",
       "      <th>1</th>\n",
       "      <td>2</td>\n",
       "      <td>01/22/2020</td>\n",
       "      <td>Beijing</td>\n",
       "      <td>Mainland China</td>\n",
       "      <td>1/22/2020 17:00</td>\n",
       "      <td>14.0</td>\n",
       "      <td>0.0</td>\n",
       "      <td>0.0</td>\n",
       "    </tr>\n",
       "    <tr>\n",
       "      <th>2</th>\n",
       "      <td>3</td>\n",
       "      <td>01/22/2020</td>\n",
       "      <td>Chongqing</td>\n",
       "      <td>Mainland China</td>\n",
       "      <td>1/22/2020 17:00</td>\n",
       "      <td>6.0</td>\n",
       "      <td>0.0</td>\n",
       "      <td>0.0</td>\n",
       "    </tr>\n",
       "    <tr>\n",
       "      <th>3</th>\n",
       "      <td>4</td>\n",
       "      <td>01/22/2020</td>\n",
       "      <td>Fujian</td>\n",
       "      <td>Mainland China</td>\n",
       "      <td>1/22/2020 17:00</td>\n",
       "      <td>1.0</td>\n",
       "      <td>0.0</td>\n",
       "      <td>0.0</td>\n",
       "    </tr>\n",
       "    <tr>\n",
       "      <th>4</th>\n",
       "      <td>5</td>\n",
       "      <td>01/22/2020</td>\n",
       "      <td>Gansu</td>\n",
       "      <td>Mainland China</td>\n",
       "      <td>1/22/2020 17:00</td>\n",
       "      <td>0.0</td>\n",
       "      <td>0.0</td>\n",
       "      <td>0.0</td>\n",
       "    </tr>\n",
       "  </tbody>\n",
       "</table>\n",
       "</div>"
      ],
      "text/plain": [
       "   SNo ObservationDate Province/State  Country/Region      Last Update  \\\n",
       "0    1      01/22/2020          Anhui  Mainland China  1/22/2020 17:00   \n",
       "1    2      01/22/2020        Beijing  Mainland China  1/22/2020 17:00   \n",
       "2    3      01/22/2020      Chongqing  Mainland China  1/22/2020 17:00   \n",
       "3    4      01/22/2020         Fujian  Mainland China  1/22/2020 17:00   \n",
       "4    5      01/22/2020          Gansu  Mainland China  1/22/2020 17:00   \n",
       "\n",
       "   Confirmed  Deaths  Recovered  \n",
       "0        1.0     0.0        0.0  \n",
       "1       14.0     0.0        0.0  \n",
       "2        6.0     0.0        0.0  \n",
       "3        1.0     0.0        0.0  \n",
       "4        0.0     0.0        0.0  "
      ]
     },
     "execution_count": 2,
     "metadata": {},
     "output_type": "execute_result"
    }
   ],
   "source": [
    "df = pd.read_csv(\"covid_19_data.csv\")\n",
    "df.head()"
   ]
  },
  {
   "cell_type": "code",
   "execution_count": 3,
   "metadata": {},
   "outputs": [],
   "source": [
    "import matplotlib.style as style\n",
    "\n",
    "## For Styling..\n",
    "style.use('ggplot')\n",
    "plt.rcParams['font.family'] = \"serif\""
   ]
  },
  {
   "cell_type": "code",
   "execution_count": 4,
   "metadata": {},
   "outputs": [
    {
     "data": {
      "text/plain": [
       "(27166, 8)"
      ]
     },
     "execution_count": 4,
     "metadata": {},
     "output_type": "execute_result"
    }
   ],
   "source": [
    "df.shape"
   ]
  },
  {
   "cell_type": "code",
   "execution_count": 5,
   "metadata": {},
   "outputs": [
    {
     "data": {
      "text/plain": [
       "SNo                    0\n",
       "ObservationDate        0\n",
       "Province/State     14009\n",
       "Country/Region         0\n",
       "Last Update            0\n",
       "Confirmed              0\n",
       "Deaths                 0\n",
       "Recovered              0\n",
       "dtype: int64"
      ]
     },
     "execution_count": 5,
     "metadata": {},
     "output_type": "execute_result"
    }
   ],
   "source": [
    "df.isnull().sum()"
   ]
  },
  {
   "cell_type": "code",
   "execution_count": 6,
   "metadata": {},
   "outputs": [
    {
     "data": {
      "text/html": [
       "<div>\n",
       "<style scoped>\n",
       "    .dataframe tbody tr th:only-of-type {\n",
       "        vertical-align: middle;\n",
       "    }\n",
       "\n",
       "    .dataframe tbody tr th {\n",
       "        vertical-align: top;\n",
       "    }\n",
       "\n",
       "    .dataframe thead th {\n",
       "        text-align: right;\n",
       "    }\n",
       "</style>\n",
       "<table border=\"1\" class=\"dataframe\">\n",
       "  <thead>\n",
       "    <tr style=\"text-align: right;\">\n",
       "      <th></th>\n",
       "      <th>SNo</th>\n",
       "      <th>Confirmed</th>\n",
       "      <th>Deaths</th>\n",
       "      <th>Recovered</th>\n",
       "    </tr>\n",
       "  </thead>\n",
       "  <tbody>\n",
       "    <tr>\n",
       "      <th>count</th>\n",
       "      <td>27166.000000</td>\n",
       "      <td>27166.000000</td>\n",
       "      <td>27166.000000</td>\n",
       "      <td>27166.000000</td>\n",
       "    </tr>\n",
       "    <tr>\n",
       "      <th>mean</th>\n",
       "      <td>13583.500000</td>\n",
       "      <td>5779.678274</td>\n",
       "      <td>379.205625</td>\n",
       "      <td>1783.397188</td>\n",
       "    </tr>\n",
       "    <tr>\n",
       "      <th>std</th>\n",
       "      <td>7842.293043</td>\n",
       "      <td>23595.566639</td>\n",
       "      <td>2226.879449</td>\n",
       "      <td>11100.630820</td>\n",
       "    </tr>\n",
       "    <tr>\n",
       "      <th>min</th>\n",
       "      <td>1.000000</td>\n",
       "      <td>0.000000</td>\n",
       "      <td>0.000000</td>\n",
       "      <td>0.000000</td>\n",
       "    </tr>\n",
       "    <tr>\n",
       "      <th>25%</th>\n",
       "      <td>6792.250000</td>\n",
       "      <td>18.000000</td>\n",
       "      <td>0.000000</td>\n",
       "      <td>0.000000</td>\n",
       "    </tr>\n",
       "    <tr>\n",
       "      <th>50%</th>\n",
       "      <td>13583.500000</td>\n",
       "      <td>199.000000</td>\n",
       "      <td>3.000000</td>\n",
       "      <td>8.000000</td>\n",
       "    </tr>\n",
       "    <tr>\n",
       "      <th>75%</th>\n",
       "      <td>20374.750000</td>\n",
       "      <td>1400.000000</td>\n",
       "      <td>30.000000</td>\n",
       "      <td>197.000000</td>\n",
       "    </tr>\n",
       "    <tr>\n",
       "      <th>max</th>\n",
       "      <td>27166.000000</td>\n",
       "      <td>354370.000000</td>\n",
       "      <td>35704.000000</td>\n",
       "      <td>294312.000000</td>\n",
       "    </tr>\n",
       "  </tbody>\n",
       "</table>\n",
       "</div>"
      ],
      "text/plain": [
       "                SNo      Confirmed        Deaths      Recovered\n",
       "count  27166.000000   27166.000000  27166.000000   27166.000000\n",
       "mean   13583.500000    5779.678274    379.205625    1783.397188\n",
       "std     7842.293043   23595.566639   2226.879449   11100.630820\n",
       "min        1.000000       0.000000      0.000000       0.000000\n",
       "25%     6792.250000      18.000000      0.000000       0.000000\n",
       "50%    13583.500000     199.000000      3.000000       8.000000\n",
       "75%    20374.750000    1400.000000     30.000000     197.000000\n",
       "max    27166.000000  354370.000000  35704.000000  294312.000000"
      ]
     },
     "execution_count": 6,
     "metadata": {},
     "output_type": "execute_result"
    }
   ],
   "source": [
    "df.describe()"
   ]
  },
  {
   "cell_type": "code",
   "execution_count": 7,
   "metadata": {},
   "outputs": [],
   "source": [
    "df.columns = ['SNo','Date','State','Country','Last Update','Confirmed','Deaths','Recovered']"
   ]
  },
  {
   "cell_type": "code",
   "execution_count": 8,
   "metadata": {},
   "outputs": [
    {
     "data": {
      "text/html": [
       "<div>\n",
       "<style scoped>\n",
       "    .dataframe tbody tr th:only-of-type {\n",
       "        vertical-align: middle;\n",
       "    }\n",
       "\n",
       "    .dataframe tbody tr th {\n",
       "        vertical-align: top;\n",
       "    }\n",
       "\n",
       "    .dataframe thead th {\n",
       "        text-align: right;\n",
       "    }\n",
       "</style>\n",
       "<table border=\"1\" class=\"dataframe\">\n",
       "  <thead>\n",
       "    <tr style=\"text-align: right;\">\n",
       "      <th></th>\n",
       "      <th>SNo</th>\n",
       "      <th>Date</th>\n",
       "      <th>State</th>\n",
       "      <th>Country</th>\n",
       "      <th>Last Update</th>\n",
       "      <th>Confirmed</th>\n",
       "      <th>Deaths</th>\n",
       "      <th>Recovered</th>\n",
       "    </tr>\n",
       "  </thead>\n",
       "  <tbody>\n",
       "    <tr>\n",
       "      <th>0</th>\n",
       "      <td>1</td>\n",
       "      <td>01/22/2020</td>\n",
       "      <td>Anhui</td>\n",
       "      <td>Mainland China</td>\n",
       "      <td>1/22/2020 17:00</td>\n",
       "      <td>1.0</td>\n",
       "      <td>0.0</td>\n",
       "      <td>0.0</td>\n",
       "    </tr>\n",
       "    <tr>\n",
       "      <th>1</th>\n",
       "      <td>2</td>\n",
       "      <td>01/22/2020</td>\n",
       "      <td>Beijing</td>\n",
       "      <td>Mainland China</td>\n",
       "      <td>1/22/2020 17:00</td>\n",
       "      <td>14.0</td>\n",
       "      <td>0.0</td>\n",
       "      <td>0.0</td>\n",
       "    </tr>\n",
       "    <tr>\n",
       "      <th>2</th>\n",
       "      <td>3</td>\n",
       "      <td>01/22/2020</td>\n",
       "      <td>Chongqing</td>\n",
       "      <td>Mainland China</td>\n",
       "      <td>1/22/2020 17:00</td>\n",
       "      <td>6.0</td>\n",
       "      <td>0.0</td>\n",
       "      <td>0.0</td>\n",
       "    </tr>\n",
       "    <tr>\n",
       "      <th>3</th>\n",
       "      <td>4</td>\n",
       "      <td>01/22/2020</td>\n",
       "      <td>Fujian</td>\n",
       "      <td>Mainland China</td>\n",
       "      <td>1/22/2020 17:00</td>\n",
       "      <td>1.0</td>\n",
       "      <td>0.0</td>\n",
       "      <td>0.0</td>\n",
       "    </tr>\n",
       "    <tr>\n",
       "      <th>4</th>\n",
       "      <td>5</td>\n",
       "      <td>01/22/2020</td>\n",
       "      <td>Gansu</td>\n",
       "      <td>Mainland China</td>\n",
       "      <td>1/22/2020 17:00</td>\n",
       "      <td>0.0</td>\n",
       "      <td>0.0</td>\n",
       "      <td>0.0</td>\n",
       "    </tr>\n",
       "  </tbody>\n",
       "</table>\n",
       "</div>"
      ],
      "text/plain": [
       "   SNo        Date      State         Country      Last Update  Confirmed  \\\n",
       "0    1  01/22/2020      Anhui  Mainland China  1/22/2020 17:00        1.0   \n",
       "1    2  01/22/2020    Beijing  Mainland China  1/22/2020 17:00       14.0   \n",
       "2    3  01/22/2020  Chongqing  Mainland China  1/22/2020 17:00        6.0   \n",
       "3    4  01/22/2020     Fujian  Mainland China  1/22/2020 17:00        1.0   \n",
       "4    5  01/22/2020      Gansu  Mainland China  1/22/2020 17:00        0.0   \n",
       "\n",
       "   Deaths  Recovered  \n",
       "0     0.0        0.0  \n",
       "1     0.0        0.0  \n",
       "2     0.0        0.0  \n",
       "3     0.0        0.0  \n",
       "4     0.0        0.0  "
      ]
     },
     "execution_count": 8,
     "metadata": {},
     "output_type": "execute_result"
    }
   ],
   "source": [
    "df.head(5)"
   ]
  },
  {
   "cell_type": "code",
   "execution_count": 9,
   "metadata": {},
   "outputs": [],
   "source": [
    "df.Country = df['Country'].replace({'Mainland China':'China'})"
   ]
  },
  {
   "cell_type": "code",
   "execution_count": 10,
   "metadata": {},
   "outputs": [
    {
     "data": {
      "text/html": [
       "<div>\n",
       "<style scoped>\n",
       "    .dataframe tbody tr th:only-of-type {\n",
       "        vertical-align: middle;\n",
       "    }\n",
       "\n",
       "    .dataframe tbody tr th {\n",
       "        vertical-align: top;\n",
       "    }\n",
       "\n",
       "    .dataframe thead th {\n",
       "        text-align: right;\n",
       "    }\n",
       "</style>\n",
       "<table border=\"1\" class=\"dataframe\">\n",
       "  <thead>\n",
       "    <tr style=\"text-align: right;\">\n",
       "      <th></th>\n",
       "      <th>SNo</th>\n",
       "      <th>Date</th>\n",
       "      <th>State</th>\n",
       "      <th>Country</th>\n",
       "      <th>Last Update</th>\n",
       "      <th>Confirmed</th>\n",
       "      <th>Deaths</th>\n",
       "      <th>Recovered</th>\n",
       "    </tr>\n",
       "  </thead>\n",
       "  <tbody>\n",
       "    <tr>\n",
       "      <th>0</th>\n",
       "      <td>1</td>\n",
       "      <td>01/22/2020</td>\n",
       "      <td>Anhui</td>\n",
       "      <td>China</td>\n",
       "      <td>1/22/2020 17:00</td>\n",
       "      <td>1.0</td>\n",
       "      <td>0.0</td>\n",
       "      <td>0.0</td>\n",
       "    </tr>\n",
       "    <tr>\n",
       "      <th>1</th>\n",
       "      <td>2</td>\n",
       "      <td>01/22/2020</td>\n",
       "      <td>Beijing</td>\n",
       "      <td>China</td>\n",
       "      <td>1/22/2020 17:00</td>\n",
       "      <td>14.0</td>\n",
       "      <td>0.0</td>\n",
       "      <td>0.0</td>\n",
       "    </tr>\n",
       "    <tr>\n",
       "      <th>2</th>\n",
       "      <td>3</td>\n",
       "      <td>01/22/2020</td>\n",
       "      <td>Chongqing</td>\n",
       "      <td>China</td>\n",
       "      <td>1/22/2020 17:00</td>\n",
       "      <td>6.0</td>\n",
       "      <td>0.0</td>\n",
       "      <td>0.0</td>\n",
       "    </tr>\n",
       "    <tr>\n",
       "      <th>3</th>\n",
       "      <td>4</td>\n",
       "      <td>01/22/2020</td>\n",
       "      <td>Fujian</td>\n",
       "      <td>China</td>\n",
       "      <td>1/22/2020 17:00</td>\n",
       "      <td>1.0</td>\n",
       "      <td>0.0</td>\n",
       "      <td>0.0</td>\n",
       "    </tr>\n",
       "    <tr>\n",
       "      <th>4</th>\n",
       "      <td>5</td>\n",
       "      <td>01/22/2020</td>\n",
       "      <td>Gansu</td>\n",
       "      <td>China</td>\n",
       "      <td>1/22/2020 17:00</td>\n",
       "      <td>0.0</td>\n",
       "      <td>0.0</td>\n",
       "      <td>0.0</td>\n",
       "    </tr>\n",
       "  </tbody>\n",
       "</table>\n",
       "</div>"
      ],
      "text/plain": [
       "   SNo        Date      State Country      Last Update  Confirmed  Deaths  \\\n",
       "0    1  01/22/2020      Anhui   China  1/22/2020 17:00        1.0     0.0   \n",
       "1    2  01/22/2020    Beijing   China  1/22/2020 17:00       14.0     0.0   \n",
       "2    3  01/22/2020  Chongqing   China  1/22/2020 17:00        6.0     0.0   \n",
       "3    4  01/22/2020     Fujian   China  1/22/2020 17:00        1.0     0.0   \n",
       "4    5  01/22/2020      Gansu   China  1/22/2020 17:00        0.0     0.0   \n",
       "\n",
       "   Recovered  \n",
       "0        0.0  \n",
       "1        0.0  \n",
       "2        0.0  \n",
       "3        0.0  \n",
       "4        0.0  "
      ]
     },
     "execution_count": 10,
     "metadata": {},
     "output_type": "execute_result"
    }
   ],
   "source": [
    "df.head()"
   ]
  },
  {
   "cell_type": "code",
   "execution_count": 15,
   "metadata": {},
   "outputs": [
    {
     "data": {
      "text/plain": [
       "Text(0, 0.5, 'Count')"
      ]
     },
     "execution_count": 15,
     "metadata": {},
     "output_type": "execute_result"
    },
    {
     "data": {
      "image/png": "[encoded data removed]",
      "text/plain": [
       "<Figure size 864x360 with 1 Axes>"
      ]
     },
     "metadata": {},
     "output_type": "display_data"
    }
   ],
   "source": [
    "plt.figure(figsize = (12,5))\n",
    "plt.plot(df.groupby('Date')['Confirmed'].sum(),c='b')\n",
    "plt.xticks(range(0,df.Date.nunique(),17),)\n",
    "plt.title('Confirmed Cases')\n",
    "plt.xlabel('Date')\n",
    "plt.ylabel('Count')"
   ]
  },
  {
   "cell_type": "code",
   "execution_count": 16,
   "metadata": {},
   "outputs": [
    {
     "data": {
      "text/plain": [
       "Text(0, 0.5, 'Count')"
      ]
     },
     "execution_count": 16,
     "metadata": {},
     "output_type": "execute_result"
    },
    {
     "data": {
      "image/png": "[encoded data removed]",
      "text/plain": [
       "<Figure size 864x360 with 1 Axes>"
      ]
     },
     "metadata": {},
     "output_type": "display_data"
    }
   ],
   "source": [
    "plt.figure(figsize = (12,5))\n",
    "plt.plot(df.groupby('Date')['Deaths'].sum(),color = 'r')\n",
    "plt.xticks(np.arange(0,df.Date.nunique(),17))\n",
    "plt.title('Confirmed Deaths')\n",
    "plt.xlabel('Date')\n",
    "plt.ylabel('Count')"
   ]
  },
  {
   "cell_type": "code",
   "execution_count": 17,
   "metadata": {},
   "outputs": [
    {
     "data": {
      "text/plain": [
       "Text(0, 0.5, 'Count')"
      ]
     },
     "execution_count": 17,
     "metadata": {},
     "output_type": "execute_result"
    },
    {
     "data": {
      "image/png": "[encoded data removed]",
      "text/plain": [
       "<Figure size 864x360 with 1 Axes>"
      ]
     },
     "metadata": {},
     "output_type": "display_data"
    }
   ],
   "source": [
    "plt.figure(figsize = (12,5))\n",
    "plt.plot(df.groupby('Date')['Recovered'].sum(),color = 'r')\n",
    "plt.xticks(np.arange(0,df.Date.nunique(),17))\n",
    "plt.title('Confirmed Recoveries')\n",
    "plt.xlabel('Date')\n",
    "plt.ylabel('Count')"
   ]
  },
  {
   "cell_type": "code",
   "execution_count": 18,
   "metadata": {},
   "outputs": [],
   "source": [
    "df.Confirmed = df.Confirmed.astype(int)\n",
    "df.Deaths = df.Deaths.astype(int)\n",
    "df.Recovered = df.Recovered.astype(int)"
   ]
  },
  {
   "cell_type": "code",
   "execution_count": 19,
   "metadata": {},
   "outputs": [],
   "source": [
    "latest_data = df[df['Date'] == max(df['Date'])]"
   ]
  },
  {
   "cell_type": "code",
   "execution_count": 20,
   "metadata": {},
   "outputs": [],
   "source": [
    "df_country = latest_data.groupby('Country')['Confirmed','Deaths','Recovered'].sum().sort_values('Confirmed',ascending = False)[:15].reset_index()"
   ]
  },
  {
   "cell_type": "code",
   "execution_count": 21,
   "metadata": {},
   "outputs": [
    {
     "data": {
      "text/html": [
       "<div>\n",
       "<style scoped>\n",
       "    .dataframe tbody tr th:only-of-type {\n",
       "        vertical-align: middle;\n",
       "    }\n",
       "\n",
       "    .dataframe tbody tr th {\n",
       "        vertical-align: top;\n",
       "    }\n",
       "\n",
       "    .dataframe thead th {\n",
       "        text-align: right;\n",
       "    }\n",
       "</style>\n",
       "<table border=\"1\" class=\"dataframe\">\n",
       "  <thead>\n",
       "    <tr style=\"text-align: right;\">\n",
       "      <th></th>\n",
       "      <th>Country</th>\n",
       "      <th>Confirmed</th>\n",
       "      <th>Deaths</th>\n",
       "      <th>Recovered</th>\n",
       "    </tr>\n",
       "  </thead>\n",
       "  <tbody>\n",
       "    <tr>\n",
       "      <th>0</th>\n",
       "      <td>US</td>\n",
       "      <td>1551853</td>\n",
       "      <td>93439</td>\n",
       "      <td>294312</td>\n",
       "    </tr>\n",
       "    <tr>\n",
       "      <th>1</th>\n",
       "      <td>Russia</td>\n",
       "      <td>308705</td>\n",
       "      <td>2972</td>\n",
       "      <td>85392</td>\n",
       "    </tr>\n",
       "    <tr>\n",
       "      <th>2</th>\n",
       "      <td>Brazil</td>\n",
       "      <td>291579</td>\n",
       "      <td>18859</td>\n",
       "      <td>116683</td>\n",
       "    </tr>\n",
       "    <tr>\n",
       "      <th>3</th>\n",
       "      <td>UK</td>\n",
       "      <td>249619</td>\n",
       "      <td>35786</td>\n",
       "      <td>1116</td>\n",
       "    </tr>\n",
       "    <tr>\n",
       "      <th>4</th>\n",
       "      <td>Spain</td>\n",
       "      <td>232555</td>\n",
       "      <td>27888</td>\n",
       "      <td>150376</td>\n",
       "    </tr>\n",
       "    <tr>\n",
       "      <th>5</th>\n",
       "      <td>Italy</td>\n",
       "      <td>227364</td>\n",
       "      <td>32330</td>\n",
       "      <td>132282</td>\n",
       "    </tr>\n",
       "    <tr>\n",
       "      <th>6</th>\n",
       "      <td>France</td>\n",
       "      <td>181700</td>\n",
       "      <td>28135</td>\n",
       "      <td>63472</td>\n",
       "    </tr>\n",
       "    <tr>\n",
       "      <th>7</th>\n",
       "      <td>Germany</td>\n",
       "      <td>178473</td>\n",
       "      <td>8144</td>\n",
       "      <td>156966</td>\n",
       "    </tr>\n",
       "    <tr>\n",
       "      <th>8</th>\n",
       "      <td>Turkey</td>\n",
       "      <td>152587</td>\n",
       "      <td>4222</td>\n",
       "      <td>113987</td>\n",
       "    </tr>\n",
       "    <tr>\n",
       "      <th>9</th>\n",
       "      <td>Iran</td>\n",
       "      <td>126949</td>\n",
       "      <td>7183</td>\n",
       "      <td>98808</td>\n",
       "    </tr>\n",
       "    <tr>\n",
       "      <th>10</th>\n",
       "      <td>India</td>\n",
       "      <td>112028</td>\n",
       "      <td>3434</td>\n",
       "      <td>45422</td>\n",
       "    </tr>\n",
       "    <tr>\n",
       "      <th>11</th>\n",
       "      <td>Peru</td>\n",
       "      <td>104020</td>\n",
       "      <td>3024</td>\n",
       "      <td>41968</td>\n",
       "    </tr>\n",
       "    <tr>\n",
       "      <th>12</th>\n",
       "      <td>China</td>\n",
       "      <td>82963</td>\n",
       "      <td>4634</td>\n",
       "      <td>78241</td>\n",
       "    </tr>\n",
       "    <tr>\n",
       "      <th>13</th>\n",
       "      <td>Canada</td>\n",
       "      <td>81575</td>\n",
       "      <td>6150</td>\n",
       "      <td>40793</td>\n",
       "    </tr>\n",
       "    <tr>\n",
       "      <th>14</th>\n",
       "      <td>Saudi Arabia</td>\n",
       "      <td>62545</td>\n",
       "      <td>339</td>\n",
       "      <td>33478</td>\n",
       "    </tr>\n",
       "  </tbody>\n",
       "</table>\n",
       "</div>"
      ],
      "text/plain": [
       "         Country  Confirmed  Deaths  Recovered\n",
       "0             US    1551853   93439     294312\n",
       "1         Russia     308705    2972      85392\n",
       "2         Brazil     291579   18859     116683\n",
       "3             UK     249619   35786       1116\n",
       "4          Spain     232555   27888     150376\n",
       "5          Italy     227364   32330     132282\n",
       "6         France     181700   28135      63472\n",
       "7        Germany     178473    8144     156966\n",
       "8         Turkey     152587    4222     113987\n",
       "9           Iran     126949    7183      98808\n",
       "10         India     112028    3434      45422\n",
       "11          Peru     104020    3024      41968\n",
       "12         China      82963    4634      78241\n",
       "13        Canada      81575    6150      40793\n",
       "14  Saudi Arabia      62545     339      33478"
      ]
     },
     "execution_count": 21,
     "metadata": {},
     "output_type": "execute_result"
    }
   ],
   "source": [
    "df_country"
   ]
  },
  {
   "cell_type": "code",
   "execution_count": 22,
   "metadata": {},
   "outputs": [
    {
     "data": {
      "text/plain": [
       "Text(0.5, 1.0, 'Total Cases of Top 15 Countries')"
      ]
     },
     "execution_count": 22,
     "metadata": {},
     "output_type": "execute_result"
    },
    {
     "data": {
      "image/png": "[encoded data removed]",
      "text/plain": [
       "<Figure size 1080x432 with 1 Axes>"
      ]
     },
     "metadata": {},
     "output_type": "display_data"
    }
   ],
   "source": [
    "plt.figure(figsize = [15,6])\n",
    "sns.barplot('Country','Confirmed', data = df_country, palette = 'plasma')\n",
    "plt.title('Total Cases of Top 15 Countries')"
   ]
  },
  {
   "cell_type": "code",
   "execution_count": 23,
   "metadata": {},
   "outputs": [
    {
     "data": {
      "text/plain": [
       "Text(0.5, 1.0, 'Total Deaths of Top 15 Countries')"
      ]
     },
     "execution_count": 23,
     "metadata": {},
     "output_type": "execute_result"
    },
    {
     "data": {
      "image/png": "[encoded data removed]",
      "text/plain": [
       "<Figure size 1080x432 with 1 Axes>"
      ]
     },
     "metadata": {},
     "output_type": "display_data"
    }
   ],
   "source": [
    "plt.figure(figsize = [15,6])\n",
    "sns.barplot('Country','Deaths', data = df_country, palette = 'plasma')\n",
    "plt.title('Total Deaths of Top 15 Countries')"
   ]
  },
  {
   "cell_type": "code",
   "execution_count": 24,
   "metadata": {},
   "outputs": [
    {
     "data": {
      "text/plain": [
       "Text(0.5, 1.0, 'Total Recoveries of Top 15 Countries')"
      ]
     },
     "execution_count": 24,
     "metadata": {},
     "output_type": "execute_result"
    },
    {
     "data": {
      "image/png": "[encoded data removed]",
      "text/plain": [
       "<Figure size 1080x432 with 1 Axes>"
      ]
     },
     "metadata": {},
     "output_type": "display_data"
    }
   ],
   "source": [
    "plt.figure(figsize = [15,6])\n",
    "sns.barplot('Country','Recovered', data = df_country, palette = 'plasma')\n",
    "plt.title('Total Recoveries of Top 15 Countries')"
   ]
  },
  {
   "cell_type": "code",
   "execution_count": 25,
   "metadata": {},
   "outputs": [],
   "source": [
    "df_country['Deaths/Total'] = df_country['Deaths']/df_country['Confirmed']\n",
    "df_country['Recovered/Total'] = df_country['Recovered']/df_country['Confirmed']"
   ]
  },
  {
   "cell_type": "code",
   "execution_count": 26,
   "metadata": {},
   "outputs": [
    {
     "data": {
      "text/html": [
       "<div>\n",
       "<style scoped>\n",
       "    .dataframe tbody tr th:only-of-type {\n",
       "        vertical-align: middle;\n",
       "    }\n",
       "\n",
       "    .dataframe tbody tr th {\n",
       "        vertical-align: top;\n",
       "    }\n",
       "\n",
       "    .dataframe thead th {\n",
       "        text-align: right;\n",
       "    }\n",
       "</style>\n",
       "<table border=\"1\" class=\"dataframe\">\n",
       "  <thead>\n",
       "    <tr style=\"text-align: right;\">\n",
       "      <th></th>\n",
       "      <th>Country</th>\n",
       "      <th>Confirmed</th>\n",
       "      <th>Deaths</th>\n",
       "      <th>Recovered</th>\n",
       "      <th>Deaths/Total</th>\n",
       "      <th>Recovered/Total</th>\n",
       "    </tr>\n",
       "  </thead>\n",
       "  <tbody>\n",
       "    <tr>\n",
       "      <th>0</th>\n",
       "      <td>US</td>\n",
       "      <td>1551853</td>\n",
       "      <td>93439</td>\n",
       "      <td>294312</td>\n",
       "      <td>0.060211</td>\n",
       "      <td>0.189652</td>\n",
       "    </tr>\n",
       "    <tr>\n",
       "      <th>1</th>\n",
       "      <td>Russia</td>\n",
       "      <td>308705</td>\n",
       "      <td>2972</td>\n",
       "      <td>85392</td>\n",
       "      <td>0.009627</td>\n",
       "      <td>0.276614</td>\n",
       "    </tr>\n",
       "    <tr>\n",
       "      <th>2</th>\n",
       "      <td>Brazil</td>\n",
       "      <td>291579</td>\n",
       "      <td>18859</td>\n",
       "      <td>116683</td>\n",
       "      <td>0.064679</td>\n",
       "      <td>0.400176</td>\n",
       "    </tr>\n",
       "    <tr>\n",
       "      <th>3</th>\n",
       "      <td>UK</td>\n",
       "      <td>249619</td>\n",
       "      <td>35786</td>\n",
       "      <td>1116</td>\n",
       "      <td>0.143362</td>\n",
       "      <td>0.004471</td>\n",
       "    </tr>\n",
       "    <tr>\n",
       "      <th>4</th>\n",
       "      <td>Spain</td>\n",
       "      <td>232555</td>\n",
       "      <td>27888</td>\n",
       "      <td>150376</td>\n",
       "      <td>0.119920</td>\n",
       "      <td>0.646626</td>\n",
       "    </tr>\n",
       "  </tbody>\n",
       "</table>\n",
       "</div>"
      ],
      "text/plain": [
       "  Country  Confirmed  Deaths  Recovered  Deaths/Total  Recovered/Total\n",
       "0      US    1551853   93439     294312      0.060211         0.189652\n",
       "1  Russia     308705    2972      85392      0.009627         0.276614\n",
       "2  Brazil     291579   18859     116683      0.064679         0.400176\n",
       "3      UK     249619   35786       1116      0.143362         0.004471\n",
       "4   Spain     232555   27888     150376      0.119920         0.646626"
      ]
     },
     "execution_count": 26,
     "metadata": {},
     "output_type": "execute_result"
    }
   ],
   "source": [
    "df_country.head()"
   ]
  },
  {
   "cell_type": "markdown",
   "metadata": {},
   "source": [
    "# Death Percentage in Top 15 countries"
   ]
  },
  {
   "cell_type": "code",
   "execution_count": 32,
   "metadata": {},
   "outputs": [
    {
     "data": {
      "text/plain": [
       "Text(0.5, 0, 'Death %')"
      ]
     },
     "execution_count": 32,
     "metadata": {},
     "output_type": "execute_result"
    },
    {
     "data": {
      "image/png": "[encoded data removed]",
      "text/plain": [
       "<Figure size 1080x432 with 1 Axes>"
      ]
     },
     "metadata": {},
     "output_type": "display_data"
    }
   ],
   "source": [
    "plt.figure(figsize = [15,6])\n",
    "sns.barplot('Deaths/Total','Country',data = df_country,palette = 'ocean')\n",
    "labels = list(np.linspace(0,max(df_country['Deaths/Total']),5)*100)\n",
    "labels = [str(round(elem, 2))+'%' for elem in labels]\n",
    "plt.xticks(np.linspace(0,max(df_country['Deaths/Total']),5),labels)\n",
    "plt.title('Death Rate of top 15 Countries')\n",
    "plt.xlabel('Death %')"
   ]
  },
  {
   "cell_type": "markdown",
   "metadata": {},
   "source": [
    "# Recovery Percentage in Top 15 countries"
   ]
  },
  {
   "cell_type": "code",
   "execution_count": 52,
   "metadata": {},
   "outputs": [
    {
     "data": {
      "text/plain": [
       "Text(0.5, 0, 'Recovered %')"
      ]
     },
     "execution_count": 52,
     "metadata": {},
     "output_type": "execute_result"
    },
    {
     "data": {
      "image/png": "[encoded data removed]",
      "text/plain": [
       "<Figure size 1080x432 with 1 Axes>"
      ]
     },
     "metadata": {},
     "output_type": "display_data"
    }
   ],
   "source": [
    "plt.figure(figsize = [15,6])\n",
    "sns.barplot('Recovered/Total','Country',data = df_country,palette = 'ocean')\n",
    "plt.xticks(np.linspace(0,1,6),['0%','20%','40%','60%','80%','100%'])\n",
    "plt.title('Recovery Rate of top 15 Countries')\n",
    "plt.xlabel('Recovered %')"
   ]
  },
  {
   "cell_type": "markdown",
   "metadata": {},
   "source": [
    "# Normalizing Data"
   ]
  },
  {
   "cell_type": "markdown",
   "metadata": {},
   "source": [
    "population = {\n",
    "    'US' : 331002651,\n",
    "    'Russia' : 145934462,\n",
    "    'Brazil' : 212559417,\n",
    "    'UK' : 67886011,\n",
    "    'Spain' : 46754778,\n",
    "    'Italy' : 60461826,\n",
    "    'France' : 65273511,\n",
    "    'Germany' : 83783942 ,\n",
    "    'Turkey' : 84339067,\n",
    "    'Iran' :  83992949,\n",
    "    'India': 1380004385 \n",
    "}"
   ]
  },
  {
   "cell_type": "code",
   "execution_count": 48,
   "metadata": {},
   "outputs": [
    {
     "data": {
      "text/html": [
       "<div>\n",
       "<style scoped>\n",
       "    .dataframe tbody tr th:only-of-type {\n",
       "        vertical-align: middle;\n",
       "    }\n",
       "\n",
       "    .dataframe tbody tr th {\n",
       "        vertical-align: top;\n",
       "    }\n",
       "\n",
       "    .dataframe thead th {\n",
       "        text-align: right;\n",
       "    }\n",
       "</style>\n",
       "<table border=\"1\" class=\"dataframe\">\n",
       "  <thead>\n",
       "    <tr style=\"text-align: right;\">\n",
       "      <th></th>\n",
       "      <th>Country</th>\n",
       "      <th>Confirmed</th>\n",
       "      <th>Deaths</th>\n",
       "      <th>Recovered</th>\n",
       "      <th>Deaths/Total</th>\n",
       "      <th>Recovered/Total</th>\n",
       "      <th>Population</th>\n",
       "    </tr>\n",
       "  </thead>\n",
       "  <tbody>\n",
       "    <tr>\n",
       "      <th>0</th>\n",
       "      <td>US</td>\n",
       "      <td>1551853</td>\n",
       "      <td>93439</td>\n",
       "      <td>294312</td>\n",
       "      <td>0.060211</td>\n",
       "      <td>0.189652</td>\n",
       "      <td>331002651</td>\n",
       "    </tr>\n",
       "    <tr>\n",
       "      <th>1</th>\n",
       "      <td>Russia</td>\n",
       "      <td>308705</td>\n",
       "      <td>2972</td>\n",
       "      <td>85392</td>\n",
       "      <td>0.009627</td>\n",
       "      <td>0.276614</td>\n",
       "      <td>145934462</td>\n",
       "    </tr>\n",
       "    <tr>\n",
       "      <th>2</th>\n",
       "      <td>Brazil</td>\n",
       "      <td>291579</td>\n",
       "      <td>18859</td>\n",
       "      <td>116683</td>\n",
       "      <td>0.064679</td>\n",
       "      <td>0.400176</td>\n",
       "      <td>212559417</td>\n",
       "    </tr>\n",
       "    <tr>\n",
       "      <th>3</th>\n",
       "      <td>UK</td>\n",
       "      <td>249619</td>\n",
       "      <td>35786</td>\n",
       "      <td>1116</td>\n",
       "      <td>0.143362</td>\n",
       "      <td>0.004471</td>\n",
       "      <td>67886011</td>\n",
       "    </tr>\n",
       "    <tr>\n",
       "      <th>4</th>\n",
       "      <td>Spain</td>\n",
       "      <td>232555</td>\n",
       "      <td>27888</td>\n",
       "      <td>150376</td>\n",
       "      <td>0.119920</td>\n",
       "      <td>0.646626</td>\n",
       "      <td>46754778</td>\n",
       "    </tr>\n",
       "    <tr>\n",
       "      <th>5</th>\n",
       "      <td>Italy</td>\n",
       "      <td>227364</td>\n",
       "      <td>32330</td>\n",
       "      <td>132282</td>\n",
       "      <td>0.142195</td>\n",
       "      <td>0.581807</td>\n",
       "      <td>60461826</td>\n",
       "    </tr>\n",
       "    <tr>\n",
       "      <th>6</th>\n",
       "      <td>France</td>\n",
       "      <td>181700</td>\n",
       "      <td>28135</td>\n",
       "      <td>63472</td>\n",
       "      <td>0.154843</td>\n",
       "      <td>0.349323</td>\n",
       "      <td>65273511</td>\n",
       "    </tr>\n",
       "    <tr>\n",
       "      <th>7</th>\n",
       "      <td>Germany</td>\n",
       "      <td>178473</td>\n",
       "      <td>8144</td>\n",
       "      <td>156966</td>\n",
       "      <td>0.045632</td>\n",
       "      <td>0.879494</td>\n",
       "      <td>83783942</td>\n",
       "    </tr>\n",
       "    <tr>\n",
       "      <th>8</th>\n",
       "      <td>Turkey</td>\n",
       "      <td>152587</td>\n",
       "      <td>4222</td>\n",
       "      <td>113987</td>\n",
       "      <td>0.027669</td>\n",
       "      <td>0.747030</td>\n",
       "      <td>84339067</td>\n",
       "    </tr>\n",
       "    <tr>\n",
       "      <th>9</th>\n",
       "      <td>Iran</td>\n",
       "      <td>126949</td>\n",
       "      <td>7183</td>\n",
       "      <td>98808</td>\n",
       "      <td>0.056582</td>\n",
       "      <td>0.778328</td>\n",
       "      <td>83992949</td>\n",
       "    </tr>\n",
       "    <tr>\n",
       "      <th>10</th>\n",
       "      <td>India</td>\n",
       "      <td>112028</td>\n",
       "      <td>3434</td>\n",
       "      <td>45422</td>\n",
       "      <td>0.030653</td>\n",
       "      <td>0.405452</td>\n",
       "      <td>1380004385</td>\n",
       "    </tr>\n",
       "  </tbody>\n",
       "</table>\n",
       "</div>"
      ],
      "text/plain": [
       "    Country  Confirmed  Deaths  Recovered  Deaths/Total  Recovered/Total  \\\n",
       "0        US    1551853   93439     294312      0.060211         0.189652   \n",
       "1    Russia     308705    2972      85392      0.009627         0.276614   \n",
       "2    Brazil     291579   18859     116683      0.064679         0.400176   \n",
       "3        UK     249619   35786       1116      0.143362         0.004471   \n",
       "4     Spain     232555   27888     150376      0.119920         0.646626   \n",
       "5     Italy     227364   32330     132282      0.142195         0.581807   \n",
       "6    France     181700   28135      63472      0.154843         0.349323   \n",
       "7   Germany     178473    8144     156966      0.045632         0.879494   \n",
       "8    Turkey     152587    4222     113987      0.027669         0.747030   \n",
       "9      Iran     126949    7183      98808      0.056582         0.778328   \n",
       "10    India     112028    3434      45422      0.030653         0.405452   \n",
       "\n",
       "    Population  \n",
       "0    331002651  \n",
       "1    145934462  \n",
       "2    212559417  \n",
       "3     67886011  \n",
       "4     46754778  \n",
       "5     60461826  \n",
       "6     65273511  \n",
       "7     83783942  \n",
       "8     84339067  \n",
       "9     83992949  \n",
       "10  1380004385  "
      ]
     },
     "execution_count": 48,
     "metadata": {},
     "output_type": "execute_result"
    }
   ],
   "source": [
    "df_country_Top10 = df_country.iloc[:11,:]\n",
    "df_country_Top10['Population'] = population.values()\n",
    "df_country_Top10"
   ]
  },
  {
   "cell_type": "code",
   "execution_count": 50,
   "metadata": {},
   "outputs": [],
   "source": [
    "df_country_Top10['rate_C'] = df_country_Top10['Confirmed']/df_country_Top10['Population']\n",
    "df_country_Top10['rate_D'] = df_country_Top10['Deaths']/df_country_Top10['Population']\n",
    "df_country_Top10['rate_R'] = df_country_Top10['Recovered']/df_country_Top10['Population']"
   ]
  },
  {
   "cell_type": "code",
   "execution_count": 51,
   "metadata": {},
   "outputs": [
    {
     "data": {
      "text/html": [
       "<div>\n",
       "<style scoped>\n",
       "    .dataframe tbody tr th:only-of-type {\n",
       "        vertical-align: middle;\n",
       "    }\n",
       "\n",
       "    .dataframe tbody tr th {\n",
       "        vertical-align: top;\n",
       "    }\n",
       "\n",
       "    .dataframe thead th {\n",
       "        text-align: right;\n",
       "    }\n",
       "</style>\n",
       "<table border=\"1\" class=\"dataframe\">\n",
       "  <thead>\n",
       "    <tr style=\"text-align: right;\">\n",
       "      <th></th>\n",
       "      <th>Country</th>\n",
       "      <th>Confirmed</th>\n",
       "      <th>Deaths</th>\n",
       "      <th>Recovered</th>\n",
       "      <th>Deaths/Total</th>\n",
       "      <th>Recovered/Total</th>\n",
       "      <th>Population</th>\n",
       "      <th>rate_C</th>\n",
       "      <th>rate_D</th>\n",
       "      <th>rate_R</th>\n",
       "    </tr>\n",
       "  </thead>\n",
       "  <tbody>\n",
       "    <tr>\n",
       "      <th>0</th>\n",
       "      <td>US</td>\n",
       "      <td>1551853</td>\n",
       "      <td>93439</td>\n",
       "      <td>294312</td>\n",
       "      <td>0.060211</td>\n",
       "      <td>0.189652</td>\n",
       "      <td>331002651</td>\n",
       "      <td>0.004688</td>\n",
       "      <td>0.000282</td>\n",
       "      <td>0.000889</td>\n",
       "    </tr>\n",
       "    <tr>\n",
       "      <th>1</th>\n",
       "      <td>Russia</td>\n",
       "      <td>308705</td>\n",
       "      <td>2972</td>\n",
       "      <td>85392</td>\n",
       "      <td>0.009627</td>\n",
       "      <td>0.276614</td>\n",
       "      <td>145934462</td>\n",
       "      <td>0.002115</td>\n",
       "      <td>0.000020</td>\n",
       "      <td>0.000585</td>\n",
       "    </tr>\n",
       "    <tr>\n",
       "      <th>2</th>\n",
       "      <td>Brazil</td>\n",
       "      <td>291579</td>\n",
       "      <td>18859</td>\n",
       "      <td>116683</td>\n",
       "      <td>0.064679</td>\n",
       "      <td>0.400176</td>\n",
       "      <td>212559417</td>\n",
       "      <td>0.001372</td>\n",
       "      <td>0.000089</td>\n",
       "      <td>0.000549</td>\n",
       "    </tr>\n",
       "    <tr>\n",
       "      <th>3</th>\n",
       "      <td>UK</td>\n",
       "      <td>249619</td>\n",
       "      <td>35786</td>\n",
       "      <td>1116</td>\n",
       "      <td>0.143362</td>\n",
       "      <td>0.004471</td>\n",
       "      <td>67886011</td>\n",
       "      <td>0.003677</td>\n",
       "      <td>0.000527</td>\n",
       "      <td>0.000016</td>\n",
       "    </tr>\n",
       "    <tr>\n",
       "      <th>4</th>\n",
       "      <td>Spain</td>\n",
       "      <td>232555</td>\n",
       "      <td>27888</td>\n",
       "      <td>150376</td>\n",
       "      <td>0.119920</td>\n",
       "      <td>0.646626</td>\n",
       "      <td>46754778</td>\n",
       "      <td>0.004974</td>\n",
       "      <td>0.000596</td>\n",
       "      <td>0.003216</td>\n",
       "    </tr>\n",
       "    <tr>\n",
       "      <th>5</th>\n",
       "      <td>Italy</td>\n",
       "      <td>227364</td>\n",
       "      <td>32330</td>\n",
       "      <td>132282</td>\n",
       "      <td>0.142195</td>\n",
       "      <td>0.581807</td>\n",
       "      <td>60461826</td>\n",
       "      <td>0.003760</td>\n",
       "      <td>0.000535</td>\n",
       "      <td>0.002188</td>\n",
       "    </tr>\n",
       "    <tr>\n",
       "      <th>6</th>\n",
       "      <td>France</td>\n",
       "      <td>181700</td>\n",
       "      <td>28135</td>\n",
       "      <td>63472</td>\n",
       "      <td>0.154843</td>\n",
       "      <td>0.349323</td>\n",
       "      <td>65273511</td>\n",
       "      <td>0.002784</td>\n",
       "      <td>0.000431</td>\n",
       "      <td>0.000972</td>\n",
       "    </tr>\n",
       "    <tr>\n",
       "      <th>7</th>\n",
       "      <td>Germany</td>\n",
       "      <td>178473</td>\n",
       "      <td>8144</td>\n",
       "      <td>156966</td>\n",
       "      <td>0.045632</td>\n",
       "      <td>0.879494</td>\n",
       "      <td>83783942</td>\n",
       "      <td>0.002130</td>\n",
       "      <td>0.000097</td>\n",
       "      <td>0.001873</td>\n",
       "    </tr>\n",
       "    <tr>\n",
       "      <th>8</th>\n",
       "      <td>Turkey</td>\n",
       "      <td>152587</td>\n",
       "      <td>4222</td>\n",
       "      <td>113987</td>\n",
       "      <td>0.027669</td>\n",
       "      <td>0.747030</td>\n",
       "      <td>84339067</td>\n",
       "      <td>0.001809</td>\n",
       "      <td>0.000050</td>\n",
       "      <td>0.001352</td>\n",
       "    </tr>\n",
       "    <tr>\n",
       "      <th>9</th>\n",
       "      <td>Iran</td>\n",
       "      <td>126949</td>\n",
       "      <td>7183</td>\n",
       "      <td>98808</td>\n",
       "      <td>0.056582</td>\n",
       "      <td>0.778328</td>\n",
       "      <td>83992949</td>\n",
       "      <td>0.001511</td>\n",
       "      <td>0.000086</td>\n",
       "      <td>0.001176</td>\n",
       "    </tr>\n",
       "    <tr>\n",
       "      <th>10</th>\n",
       "      <td>India</td>\n",
       "      <td>112028</td>\n",
       "      <td>3434</td>\n",
       "      <td>45422</td>\n",
       "      <td>0.030653</td>\n",
       "      <td>0.405452</td>\n",
       "      <td>1380004385</td>\n",
       "      <td>0.000081</td>\n",
       "      <td>0.000002</td>\n",
       "      <td>0.000033</td>\n",
       "    </tr>\n",
       "  </tbody>\n",
       "</table>\n",
       "</div>"
      ],
      "text/plain": [
       "    Country  Confirmed  Deaths  Recovered  Deaths/Total  Recovered/Total  \\\n",
       "0        US    1551853   93439     294312      0.060211         0.189652   \n",
       "1    Russia     308705    2972      85392      0.009627         0.276614   \n",
       "2    Brazil     291579   18859     116683      0.064679         0.400176   \n",
       "3        UK     249619   35786       1116      0.143362         0.004471   \n",
       "4     Spain     232555   27888     150376      0.119920         0.646626   \n",
       "5     Italy     227364   32330     132282      0.142195         0.581807   \n",
       "6    France     181700   28135      63472      0.154843         0.349323   \n",
       "7   Germany     178473    8144     156966      0.045632         0.879494   \n",
       "8    Turkey     152587    4222     113987      0.027669         0.747030   \n",
       "9      Iran     126949    7183      98808      0.056582         0.778328   \n",
       "10    India     112028    3434      45422      0.030653         0.405452   \n",
       "\n",
       "    Population    rate_C    rate_D    rate_R  \n",
       "0    331002651  0.004688  0.000282  0.000889  \n",
       "1    145934462  0.002115  0.000020  0.000585  \n",
       "2    212559417  0.001372  0.000089  0.000549  \n",
       "3     67886011  0.003677  0.000527  0.000016  \n",
       "4     46754778  0.004974  0.000596  0.003216  \n",
       "5     60461826  0.003760  0.000535  0.002188  \n",
       "6     65273511  0.002784  0.000431  0.000972  \n",
       "7     83783942  0.002130  0.000097  0.001873  \n",
       "8     84339067  0.001809  0.000050  0.001352  \n",
       "9     83992949  0.001511  0.000086  0.001176  \n",
       "10  1380004385  0.000081  0.000002  0.000033  "
      ]
     },
     "execution_count": 51,
     "metadata": {},
     "output_type": "execute_result"
    }
   ],
   "source": [
    "df_country_Top10"
   ]
  },
  {
   "cell_type": "code",
   "execution_count": 58,
   "metadata": {},
   "outputs": [
    {
     "data": {
      "text/plain": [
       "Text(0.5, 0, 'Rate')"
      ]
     },
     "execution_count": 58,
     "metadata": {},
     "output_type": "execute_result"
    },
    {
     "data": {
      "image/png": "[encoded data removed]",
      "text/plain": [
       "<Figure size 1080x432 with 1 Axes>"
      ]
     },
     "metadata": {},
     "output_type": "display_data"
    }
   ],
   "source": [
    "plt.figure(figsize = [15,6])\n",
    "sns.barplot('rate_C','Country',data = df_country_Top10,palette = 'viridis')\n",
    "plt.title('Normalized Confirmed Cases')\n",
    "plt.xlabel('Rate')"
   ]
  },
  {
   "cell_type": "code",
   "execution_count": 59,
   "metadata": {},
   "outputs": [
    {
     "data": {
      "text/plain": [
       "Text(0.5, 0, 'Rate')"
      ]
     },
     "execution_count": 59,
     "metadata": {},
     "output_type": "execute_result"
    },
    {
     "data": {
      "image/png": "[encoded data removed]",
      "text/plain": [
       "<Figure size 1080x432 with 1 Axes>"
      ]
     },
     "metadata": {},
     "output_type": "display_data"
    }
   ],
   "source": [
    "plt.figure(figsize = [15,6])\n",
    "sns.barplot('rate_D','Country',data = df_country_Top10,palette = 'viridis')\n",
    "plt.title('Normalized Death Cases')\n",
    "plt.xlabel('Rate')"
   ]
  },
  {
   "cell_type": "code",
   "execution_count": 60,
   "metadata": {},
   "outputs": [
    {
     "data": {
      "text/plain": [
       "Text(0.5, 0, 'Rate')"
      ]
     },
     "execution_count": 60,
     "metadata": {},
     "output_type": "execute_result"
    },
    {
     "data": {
      "image/png": "[encoded data removed]",
      "text/plain": [
       "<Figure size 1080x432 with 1 Axes>"
      ]
     },
     "metadata": {},
     "output_type": "display_data"
    }
   ],
   "source": [
    "plt.figure(figsize = [15,6])\n",
    "sns.barplot('rate_R','Country',data = df_country_Top10,palette = 'viridis')\n",
    "plt.title('Normalized Recovered Cases')\n",
    "plt.xlabel('Rate')"
   ]
  }
 ],
 "metadata": {
  "kernelspec": {
   "display_name": "Python 3",
   "language": "python",
   "name": "python3"
  },
  "language_info": {
   "codemirror_mode": {
    "name": "ipython",
    "version": 3
   },
   "file_extension": ".py",
   "mimetype": "text/x-python",
   "name": "python",
   "nbconvert_exporter": "python",
   "pygments_lexer": "ipython3",
   "version": "3.7.7"
  }
 },
 "nbformat": 4,
 "nbformat_minor": 4
}
